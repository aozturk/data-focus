{
  "nbformat": 4,
  "nbformat_minor": 0,
  "metadata": {
    "colab": {
      "name": "keras_music_genre_classification.ipynb",
      "version": "0.3.2",
      "provenance": [],
      "collapsed_sections": [],
      "include_colab_link": true
    },
    "kernelspec": {
      "name": "python3",
      "display_name": "Python 3"
    },
    "accelerator": "GPU"
  },
  "cells": [
    {
      "cell_type": "markdown",
      "metadata": {
        "id": "view-in-github",
        "colab_type": "text"
      },
      "source": [
        "<a href=\"https://colab.research.google.com/github/aozturk/data-focus/blob/master/keras_music_genre_classification.ipynb\" target=\"_parent\"><img src=\"https://colab.research.google.com/assets/colab-badge.svg\" alt=\"Open In Colab\"/></a>"
      ]
    },
    {
      "cell_type": "code",
      "metadata": {
        "id": "HRREovoRUyeK",
        "colab_type": "code",
        "colab": {
          "base_uri": "https://localhost:8080/",
          "height": 204
        },
        "outputId": "c1e1410d-d070-40cf-d3a2-7035d90942a2"
      },
      "source": [
        "# Download to use GTZAN genre collection dataset for classification. \n",
        "\n",
        "!wget \"http://opihi.cs.uvic.ca/sound/genres.tar.gz\" "
      ],
      "execution_count": 1,
      "outputs": [
        {
          "output_type": "stream",
          "text": [
            "--2019-05-15 22:09:32--  http://opihi.cs.uvic.ca/sound/genres.tar.gz\n",
            "Resolving opihi.cs.uvic.ca (opihi.cs.uvic.ca)... 142.104.68.135\n",
            "Connecting to opihi.cs.uvic.ca (opihi.cs.uvic.ca)|142.104.68.135|:80... connected.\n",
            "HTTP request sent, awaiting response... 200 OK\n",
            "Length: 1225573614 (1.1G) [application/x-gzip]\n",
            "Saving to: ‘genres.tar.gz’\n",
            "\n",
            "genres.tar.gz       100%[===================>]   1.14G  10.8MB/s    in 1m 43s  \n",
            "\n",
            "2019-05-15 22:11:15 (11.4 MB/s) - ‘genres.tar.gz’ saved [1225573614/1225573614]\n",
            "\n"
          ],
          "name": "stdout"
        }
      ]
    },
    {
      "cell_type": "code",
      "metadata": {
        "id": "c1Jl4E5nYtLf",
        "colab_type": "code",
        "colab": {}
      },
      "source": [
        "!tar -xzf genres.tar.gz"
      ],
      "execution_count": 0,
      "outputs": []
    },
    {
      "cell_type": "code",
      "metadata": {
        "id": "O7honQueTEms",
        "colab_type": "code",
        "colab": {
          "base_uri": "https://localhost:8080/",
          "height": 34
        },
        "outputId": "6363bd4b-1b24-4935-e0d3-e6ddd20755c7"
      },
      "source": [
        "# feature extractoring and preprocessing data\n",
        "import librosa\n",
        "import pandas as pd\n",
        "import numpy as np\n",
        "import matplotlib.pyplot as plt\n",
        "%matplotlib inline\n",
        "import os\n",
        "from PIL import Image\n",
        "import pathlib\n",
        "import csv\n",
        "\n",
        "# Preprocessing\n",
        "from sklearn.model_selection import train_test_split\n",
        "from sklearn.preprocessing import LabelEncoder, StandardScaler\n",
        "\n",
        "#Keras\n",
        "import keras\n",
        "\n",
        "import warnings\n",
        "warnings.filterwarnings('ignore')"
      ],
      "execution_count": 3,
      "outputs": [
        {
          "output_type": "stream",
          "text": [
            "Using TensorFlow backend.\n"
          ],
          "name": "stderr"
        }
      ]
    },
    {
      "cell_type": "code",
      "metadata": {
        "id": "Y1iyjCFUZ_bl",
        "colab_type": "code",
        "colab": {
          "base_uri": "https://localhost:8080/",
          "height": 34
        },
        "outputId": "06086ee1-6262-4de3-f554-6aed6e5f60cc"
      },
      "source": [
        "cmap = plt.get_cmap('inferno')\n",
        "\n",
        "plt.figure(figsize=(10,10))\n",
        "# The dataset consists of 10 genres\n",
        "genres = 'blues classical country disco hiphop jazz metal pop reggae rock'.split()\n",
        "for g in genres:\n",
        "    pathlib.Path(f'img_data/{g}').mkdir(parents=True, exist_ok=True)     \n",
        "    for filename in os.listdir(f'./genres/{g}'):\n",
        "        songname = f'./genres/{g}/{filename}'\n",
        "        y, sr = librosa.load(songname, mono=True, duration=5)\n",
        "        # Extracting the Spectrogram for every Audio\n",
        "        plt.specgram(y, NFFT=2048, Fs=2, Fc=0, noverlap=128, cmap=cmap, sides='default', mode='default', scale='dB');\n",
        "        plt.axis('off');\n",
        "        plt.savefig(f'img_data/{g}/{filename[:-3].replace(\".\", \"\")}.png')\n",
        "        plt.clf()"
      ],
      "execution_count": 4,
      "outputs": [
        {
          "output_type": "display_data",
          "data": {
            "text/plain": [
              "<Figure size 720x720 with 0 Axes>"
            ]
          },
          "metadata": {
            "tags": []
          }
        }
      ]
    },
    {
      "cell_type": "code",
      "metadata": {
        "id": "z--OTKIMaMyS",
        "colab_type": "code",
        "colab": {}
      },
      "source": [
        "header = 'filename chroma_stft rmse spectral_centroid spectral_bandwidth rolloff zero_crossing_rate'\n",
        "for i in range(1, 21):\n",
        "    header += f' mfcc{i}'\n",
        "header += ' label'\n",
        "header = header.split()"
      ],
      "execution_count": 0,
      "outputs": []
    },
    {
      "cell_type": "code",
      "metadata": {
        "id": "a_g1e4RaaPr1",
        "colab_type": "code",
        "colab": {}
      },
      "source": [
        "file = open('data.csv', 'w', newline='')\n",
        "with file:\n",
        "    writer = csv.writer(file)\n",
        "    writer.writerow(header)\n",
        "genres = 'blues classical country disco hiphop jazz metal pop reggae rock'.split()\n",
        "# Extracting features from Spectrogram\n",
        "for g in genres:\n",
        "    for filename in os.listdir(f'./genres/{g}'):\n",
        "        songname = f'./genres/{g}/{filename}'\n",
        "        y, sr = librosa.load(songname, mono=True, duration=30)\n",
        "        rmse = librosa.feature.rmse(y=y)\n",
        "        chroma_stft = librosa.feature.chroma_stft(y=y, sr=sr) # Chroma Frequencies\n",
        "        spec_cent = librosa.feature.spectral_centroid(y=y, sr=sr) # Spectral Centroid\n",
        "        spec_bw = librosa.feature.spectral_bandwidth(y=y, sr=sr) # Spectral Bandwidth\n",
        "        rolloff = librosa.feature.spectral_rolloff(y=y, sr=sr) # Spectral Roll-off\n",
        "        zcr = librosa.feature.zero_crossing_rate(y) # Zero Crossing Rate\n",
        "        mfcc = librosa.feature.mfcc(y=y, sr=sr) # Mel-frequency cepstral coefficients (MFCC)\n",
        "        to_append = f'{filename} {np.mean(chroma_stft)} {np.mean(rmse)} {np.mean(spec_cent)} {np.mean(spec_bw)} {np.mean(rolloff)} {np.mean(zcr)}'    \n",
        "        for e in mfcc:\n",
        "            to_append += f' {np.mean(e)}'\n",
        "        to_append += f' {g}'\n",
        "        file = open('data.csv', 'a', newline='')\n",
        "        # Write the data to a csv file\n",
        "        with file:\n",
        "            writer = csv.writer(file)\n",
        "            writer.writerow(to_append.split())"
      ],
      "execution_count": 0,
      "outputs": []
    },
    {
      "cell_type": "code",
      "metadata": {
        "id": "2pPYbjGKbiiO",
        "colab_type": "code",
        "colab": {
          "base_uri": "https://localhost:8080/",
          "height": 224
        },
        "outputId": "cb0ba213-3645-4fa5-e7df-a856604b40b7"
      },
      "source": [
        "# Analysing the Data in Pandas\n",
        "data = pd.read_csv('data.csv')\n",
        "data.head()"
      ],
      "execution_count": 7,
      "outputs": [
        {
          "output_type": "execute_result",
          "data": {
            "text/html": [
              "<div>\n",
              "<style scoped>\n",
              "    .dataframe tbody tr th:only-of-type {\n",
              "        vertical-align: middle;\n",
              "    }\n",
              "\n",
              "    .dataframe tbody tr th {\n",
              "        vertical-align: top;\n",
              "    }\n",
              "\n",
              "    .dataframe thead th {\n",
              "        text-align: right;\n",
              "    }\n",
              "</style>\n",
              "<table border=\"1\" class=\"dataframe\">\n",
              "  <thead>\n",
              "    <tr style=\"text-align: right;\">\n",
              "      <th></th>\n",
              "      <th>filename</th>\n",
              "      <th>chroma_stft</th>\n",
              "      <th>rmse</th>\n",
              "      <th>spectral_centroid</th>\n",
              "      <th>spectral_bandwidth</th>\n",
              "      <th>rolloff</th>\n",
              "      <th>zero_crossing_rate</th>\n",
              "      <th>mfcc1</th>\n",
              "      <th>mfcc2</th>\n",
              "      <th>mfcc3</th>\n",
              "      <th>mfcc4</th>\n",
              "      <th>mfcc5</th>\n",
              "      <th>mfcc6</th>\n",
              "      <th>mfcc7</th>\n",
              "      <th>mfcc8</th>\n",
              "      <th>mfcc9</th>\n",
              "      <th>mfcc10</th>\n",
              "      <th>mfcc11</th>\n",
              "      <th>mfcc12</th>\n",
              "      <th>mfcc13</th>\n",
              "      <th>mfcc14</th>\n",
              "      <th>mfcc15</th>\n",
              "      <th>mfcc16</th>\n",
              "      <th>mfcc17</th>\n",
              "      <th>mfcc18</th>\n",
              "      <th>mfcc19</th>\n",
              "      <th>mfcc20</th>\n",
              "      <th>label</th>\n",
              "    </tr>\n",
              "  </thead>\n",
              "  <tbody>\n",
              "    <tr>\n",
              "      <th>0</th>\n",
              "      <td>blues.00035.au</td>\n",
              "      <td>0.288330</td>\n",
              "      <td>0.173407</td>\n",
              "      <td>1506.979392</td>\n",
              "      <td>2096.637631</td>\n",
              "      <td>3404.796078</td>\n",
              "      <td>0.045430</td>\n",
              "      <td>-171.786064</td>\n",
              "      <td>120.280233</td>\n",
              "      <td>15.336581</td>\n",
              "      <td>21.097281</td>\n",
              "      <td>-5.410021</td>\n",
              "      <td>24.192475</td>\n",
              "      <td>-24.140309</td>\n",
              "      <td>18.545325</td>\n",
              "      <td>-22.352987</td>\n",
              "      <td>1.302640</td>\n",
              "      <td>-20.761293</td>\n",
              "      <td>-4.984545</td>\n",
              "      <td>-17.119595</td>\n",
              "      <td>-7.898076</td>\n",
              "      <td>-15.321158</td>\n",
              "      <td>-9.350151</td>\n",
              "      <td>-8.906130</td>\n",
              "      <td>-8.516965</td>\n",
              "      <td>-14.330011</td>\n",
              "      <td>-19.935203</td>\n",
              "      <td>blues</td>\n",
              "    </tr>\n",
              "    <tr>\n",
              "      <th>1</th>\n",
              "      <td>blues.00021.au</td>\n",
              "      <td>0.321085</td>\n",
              "      <td>0.101159</td>\n",
              "      <td>1046.748840</td>\n",
              "      <td>1480.933764</td>\n",
              "      <td>1830.788929</td>\n",
              "      <td>0.047937</td>\n",
              "      <td>-264.698399</td>\n",
              "      <td>138.855977</td>\n",
              "      <td>11.186486</td>\n",
              "      <td>48.520342</td>\n",
              "      <td>14.915178</td>\n",
              "      <td>20.572826</td>\n",
              "      <td>3.207815</td>\n",
              "      <td>1.247171</td>\n",
              "      <td>-15.846408</td>\n",
              "      <td>15.986909</td>\n",
              "      <td>3.368814</td>\n",
              "      <td>-1.520129</td>\n",
              "      <td>1.894727</td>\n",
              "      <td>6.325552</td>\n",
              "      <td>-0.986607</td>\n",
              "      <td>-2.412860</td>\n",
              "      <td>-3.683063</td>\n",
              "      <td>0.496945</td>\n",
              "      <td>5.046816</td>\n",
              "      <td>-0.780009</td>\n",
              "      <td>blues</td>\n",
              "    </tr>\n",
              "    <tr>\n",
              "      <th>2</th>\n",
              "      <td>blues.00081.au</td>\n",
              "      <td>0.380260</td>\n",
              "      <td>0.248262</td>\n",
              "      <td>2116.942959</td>\n",
              "      <td>1956.611056</td>\n",
              "      <td>4196.107960</td>\n",
              "      <td>0.127272</td>\n",
              "      <td>-26.929785</td>\n",
              "      <td>107.334008</td>\n",
              "      <td>-46.809993</td>\n",
              "      <td>40.932634</td>\n",
              "      <td>-21.463776</td>\n",
              "      <td>24.816275</td>\n",
              "      <td>-18.945571</td>\n",
              "      <td>15.253459</td>\n",
              "      <td>-15.050104</td>\n",
              "      <td>12.262823</td>\n",
              "      <td>-15.234050</td>\n",
              "      <td>14.336612</td>\n",
              "      <td>-13.821769</td>\n",
              "      <td>7.562789</td>\n",
              "      <td>-6.181372</td>\n",
              "      <td>0.330165</td>\n",
              "      <td>-6.829571</td>\n",
              "      <td>0.965922</td>\n",
              "      <td>-7.570825</td>\n",
              "      <td>2.918987</td>\n",
              "      <td>blues</td>\n",
              "    </tr>\n",
              "    <tr>\n",
              "      <th>3</th>\n",
              "      <td>blues.00061.au</td>\n",
              "      <td>0.451905</td>\n",
              "      <td>0.141766</td>\n",
              "      <td>2504.026852</td>\n",
              "      <td>2180.438691</td>\n",
              "      <td>5077.152632</td>\n",
              "      <td>0.167584</td>\n",
              "      <td>-82.454706</td>\n",
              "      <td>94.147763</td>\n",
              "      <td>-27.120917</td>\n",
              "      <td>75.655100</td>\n",
              "      <td>-27.509951</td>\n",
              "      <td>35.576213</td>\n",
              "      <td>-20.278538</td>\n",
              "      <td>25.109201</td>\n",
              "      <td>-15.362310</td>\n",
              "      <td>11.329742</td>\n",
              "      <td>-13.398637</td>\n",
              "      <td>8.139763</td>\n",
              "      <td>-8.494857</td>\n",
              "      <td>8.283361</td>\n",
              "      <td>-10.346549</td>\n",
              "      <td>-3.462061</td>\n",
              "      <td>-5.223508</td>\n",
              "      <td>-2.595848</td>\n",
              "      <td>-8.363733</td>\n",
              "      <td>-6.978243</td>\n",
              "      <td>blues</td>\n",
              "    </tr>\n",
              "    <tr>\n",
              "      <th>4</th>\n",
              "      <td>blues.00099.au</td>\n",
              "      <td>0.370279</td>\n",
              "      <td>0.105061</td>\n",
              "      <td>1538.817338</td>\n",
              "      <td>1703.507382</td>\n",
              "      <td>3175.272466</td>\n",
              "      <td>0.074799</td>\n",
              "      <td>-177.165864</td>\n",
              "      <td>136.221594</td>\n",
              "      <td>-26.915181</td>\n",
              "      <td>36.376290</td>\n",
              "      <td>-18.760828</td>\n",
              "      <td>20.909633</td>\n",
              "      <td>-1.778092</td>\n",
              "      <td>3.013012</td>\n",
              "      <td>-5.600873</td>\n",
              "      <td>5.638468</td>\n",
              "      <td>-8.117091</td>\n",
              "      <td>5.642528</td>\n",
              "      <td>-10.790228</td>\n",
              "      <td>-2.416264</td>\n",
              "      <td>-6.943611</td>\n",
              "      <td>-2.507238</td>\n",
              "      <td>-5.203642</td>\n",
              "      <td>-3.407661</td>\n",
              "      <td>-3.246502</td>\n",
              "      <td>-2.681821</td>\n",
              "      <td>blues</td>\n",
              "    </tr>\n",
              "  </tbody>\n",
              "</table>\n",
              "</div>"
            ],
            "text/plain": [
              "         filename  chroma_stft      rmse  ...     mfcc19     mfcc20  label\n",
              "0  blues.00035.au     0.288330  0.173407  ... -14.330011 -19.935203  blues\n",
              "1  blues.00021.au     0.321085  0.101159  ...   5.046816  -0.780009  blues\n",
              "2  blues.00081.au     0.380260  0.248262  ...  -7.570825   2.918987  blues\n",
              "3  blues.00061.au     0.451905  0.141766  ...  -8.363733  -6.978243  blues\n",
              "4  blues.00099.au     0.370279  0.105061  ...  -3.246502  -2.681821  blues\n",
              "\n",
              "[5 rows x 28 columns]"
            ]
          },
          "metadata": {
            "tags": []
          },
          "execution_count": 7
        }
      ]
    },
    {
      "cell_type": "code",
      "metadata": {
        "id": "KYymSXtzbk7B",
        "colab_type": "code",
        "colab": {
          "base_uri": "https://localhost:8080/",
          "height": 34
        },
        "outputId": "e1e75170-961a-493b-fc9a-f730b0b37e69"
      },
      "source": [
        "data.shape"
      ],
      "execution_count": 8,
      "outputs": [
        {
          "output_type": "execute_result",
          "data": {
            "text/plain": [
              "(1000, 28)"
            ]
          },
          "metadata": {
            "tags": []
          },
          "execution_count": 8
        }
      ]
    },
    {
      "cell_type": "code",
      "metadata": {
        "id": "eQDJz4kSbmzl",
        "colab_type": "code",
        "colab": {}
      },
      "source": [
        "# Dropping unneccesary columns\n",
        "data = data.drop(['filename'],axis=1)"
      ],
      "execution_count": 0,
      "outputs": []
    },
    {
      "cell_type": "code",
      "metadata": {
        "id": "qtde3SJPboZW",
        "colab_type": "code",
        "colab": {}
      },
      "source": [
        "# Encoding the Labels\n",
        "genre_list = data.iloc[:, -1]\n",
        "encoder = LabelEncoder()\n",
        "y = encoder.fit_transform(genre_list)"
      ],
      "execution_count": 0,
      "outputs": []
    },
    {
      "cell_type": "code",
      "metadata": {
        "id": "nByJZ2uhbp2K",
        "colab_type": "code",
        "colab": {}
      },
      "source": [
        "# Scaling the Feature columns\n",
        "scaler = StandardScaler()\n",
        "X = scaler.fit_transform(np.array(data.iloc[:, :-1], dtype = float))"
      ],
      "execution_count": 0,
      "outputs": []
    },
    {
      "cell_type": "code",
      "metadata": {
        "id": "T7fmIcPzbrVA",
        "colab_type": "code",
        "colab": {}
      },
      "source": [
        "# Dividing data into training and Testing set¶\n",
        "X_train, X_test, y_train, y_test = train_test_split(X, y, test_size=0.2)"
      ],
      "execution_count": 0,
      "outputs": []
    },
    {
      "cell_type": "code",
      "metadata": {
        "id": "XhyZmeXubuE-",
        "colab_type": "code",
        "colab": {
          "base_uri": "https://localhost:8080/",
          "height": 119
        },
        "outputId": "d813083e-f65d-489a-d787-7dcb22cd6f48"
      },
      "source": [
        "len(y_train)\n",
        "len(y_test)\n",
        "X_train[10]"
      ],
      "execution_count": 13,
      "outputs": [
        {
          "output_type": "execute_result",
          "data": {
            "text/plain": [
              "array([-1.37033782, -1.30169706, -1.16063004, -1.52405843, -1.27174291,\n",
              "       -0.57566194, -1.33485044,  1.54346624, -1.0448233 , -0.95610604,\n",
              "       -0.69073897, -1.76404548, -0.85322922, -1.03110979, -0.03355505,\n",
              "       -0.84523657, -0.84122547, -0.80974017,  0.41753526, -0.47049311,\n",
              "        1.17927252,  0.87434598,  1.45060155,  0.08136082,  0.18161071,\n",
              "        0.25832182])"
            ]
          },
          "metadata": {
            "tags": []
          },
          "execution_count": 13
        }
      ]
    },
    {
      "cell_type": "code",
      "metadata": {
        "id": "LSLZFbafbxFY",
        "colab_type": "code",
        "colab": {
          "base_uri": "https://localhost:8080/",
          "height": 88
        },
        "outputId": "365b597f-4a48-4ec4-d849-8859459d6473"
      },
      "source": [
        "# Building the deep learning network\n",
        "\n",
        "from keras import models\n",
        "from keras import layers\n",
        "\n",
        "model = models.Sequential()\n",
        "model.add(layers.Dense(256, activation='relu', input_shape=(X_train.shape[1],)))\n",
        "\n",
        "model.add(layers.Dense(128, activation='relu'))\n",
        "\n",
        "model.add(layers.Dense(64, activation='relu'))\n",
        "\n",
        "model.add(layers.Dense(10, activation='softmax'))"
      ],
      "execution_count": 14,
      "outputs": [
        {
          "output_type": "stream",
          "text": [
            "WARNING:tensorflow:From /usr/local/lib/python3.6/dist-packages/tensorflow/python/framework/op_def_library.py:263: colocate_with (from tensorflow.python.framework.ops) is deprecated and will be removed in a future version.\n",
            "Instructions for updating:\n",
            "Colocations handled automatically by placer.\n"
          ],
          "name": "stdout"
        }
      ]
    },
    {
      "cell_type": "code",
      "metadata": {
        "id": "fj4LkFoIcAIV",
        "colab_type": "code",
        "colab": {}
      },
      "source": [
        "model.compile(optimizer='adam',\n",
        "              loss='sparse_categorical_crossentropy',\n",
        "              metrics=['accuracy'])"
      ],
      "execution_count": 0,
      "outputs": []
    },
    {
      "cell_type": "code",
      "metadata": {
        "id": "FfJurfS8cCN8",
        "colab_type": "code",
        "colab": {
          "base_uri": "https://localhost:8080/",
          "height": 768
        },
        "outputId": "93fdf9a0-ffd7-41bf-df4b-366689f6e758"
      },
      "source": [
        "history = model.fit(X_train,\n",
        "                    y_train,\n",
        "                    epochs=20,\n",
        "                    batch_size=128)"
      ],
      "execution_count": 16,
      "outputs": [
        {
          "output_type": "stream",
          "text": [
            "WARNING:tensorflow:From /usr/local/lib/python3.6/dist-packages/tensorflow/python/ops/math_ops.py:3066: to_int32 (from tensorflow.python.ops.math_ops) is deprecated and will be removed in a future version.\n",
            "Instructions for updating:\n",
            "Use tf.cast instead.\n",
            "Epoch 1/20\n",
            "800/800 [==============================] - 3s 4ms/step - loss: 2.1650 - acc: 0.2450\n",
            "Epoch 2/20\n",
            "800/800 [==============================] - 0s 39us/step - loss: 1.8659 - acc: 0.3562\n",
            "Epoch 3/20\n",
            "800/800 [==============================] - 0s 36us/step - loss: 1.6411 - acc: 0.3975\n",
            "Epoch 4/20\n",
            "800/800 [==============================] - 0s 35us/step - loss: 1.4532 - acc: 0.5212\n",
            "Epoch 5/20\n",
            "800/800 [==============================] - 0s 34us/step - loss: 1.2956 - acc: 0.5737\n",
            "Epoch 6/20\n",
            "800/800 [==============================] - 0s 33us/step - loss: 1.1741 - acc: 0.6175\n",
            "Epoch 7/20\n",
            "800/800 [==============================] - 0s 37us/step - loss: 1.0757 - acc: 0.6388\n",
            "Epoch 8/20\n",
            "800/800 [==============================] - 0s 36us/step - loss: 1.0057 - acc: 0.6800\n",
            "Epoch 9/20\n",
            "800/800 [==============================] - 0s 35us/step - loss: 0.9517 - acc: 0.6900\n",
            "Epoch 10/20\n",
            "800/800 [==============================] - 0s 33us/step - loss: 0.8875 - acc: 0.7025\n",
            "Epoch 11/20\n",
            "800/800 [==============================] - 0s 38us/step - loss: 0.8557 - acc: 0.7162\n",
            "Epoch 12/20\n",
            "800/800 [==============================] - 0s 32us/step - loss: 0.8102 - acc: 0.7350\n",
            "Epoch 13/20\n",
            "800/800 [==============================] - 0s 34us/step - loss: 0.7739 - acc: 0.7525\n",
            "Epoch 14/20\n",
            "800/800 [==============================] - 0s 36us/step - loss: 0.7362 - acc: 0.7638\n",
            "Epoch 15/20\n",
            "800/800 [==============================] - 0s 36us/step - loss: 0.7071 - acc: 0.7762\n",
            "Epoch 16/20\n",
            "800/800 [==============================] - 0s 33us/step - loss: 0.6668 - acc: 0.7875\n",
            "Epoch 17/20\n",
            "800/800 [==============================] - 0s 33us/step - loss: 0.6394 - acc: 0.8013\n",
            "Epoch 18/20\n",
            "800/800 [==============================] - 0s 35us/step - loss: 0.6160 - acc: 0.8013\n",
            "Epoch 19/20\n",
            "800/800 [==============================] - 0s 36us/step - loss: 0.5885 - acc: 0.8250\n",
            "Epoch 20/20\n",
            "800/800 [==============================] - 0s 36us/step - loss: 0.5668 - acc: 0.8275\n"
          ],
          "name": "stdout"
        }
      ]
    },
    {
      "cell_type": "code",
      "metadata": {
        "id": "q5zB68vhcD8U",
        "colab_type": "code",
        "colab": {
          "base_uri": "https://localhost:8080/",
          "height": 51
        },
        "outputId": "53d74843-a758-47c7-eab4-2dcf27f32b92"
      },
      "source": [
        "test_loss, test_acc = model.evaluate(X_test,y_test)\n",
        "print('test_acc: ',test_acc)"
      ],
      "execution_count": 17,
      "outputs": [
        {
          "output_type": "stream",
          "text": [
            "200/200 [==============================] - 0s 253us/step\n",
            "test_acc:  0.65\n"
          ],
          "name": "stdout"
        }
      ]
    },
    {
      "cell_type": "code",
      "metadata": {
        "id": "uYHvnRfUcGip",
        "colab_type": "code",
        "colab": {}
      },
      "source": [
        "# Validate the approach\n",
        "x_val = X_train[:200]\n",
        "partial_x_train = X_train[200:]\n",
        "\n",
        "y_val = y_train[:200]\n",
        "partial_y_train = y_train[200:]"
      ],
      "execution_count": 0,
      "outputs": []
    },
    {
      "cell_type": "code",
      "metadata": {
        "id": "ISMlVT6jcIKL",
        "colab_type": "code",
        "colab": {
          "base_uri": "https://localhost:8080/",
          "height": 1088
        },
        "outputId": "3aff119a-1ae4-4ad1-a764-20be30970fd0"
      },
      "source": [
        "model = models.Sequential()\n",
        "model.add(layers.Dense(512, activation='relu', input_shape=(X_train.shape[1],)))\n",
        "model.add(layers.Dense(256, activation='relu'))\n",
        "model.add(layers.Dense(128, activation='relu'))\n",
        "model.add(layers.Dense(64, activation='relu'))\n",
        "model.add(layers.Dense(10, activation='softmax'))\n",
        "\n",
        "model.compile(optimizer='adam',\n",
        "              loss='sparse_categorical_crossentropy',\n",
        "              metrics=['accuracy'])\n",
        "\n",
        "model.fit(partial_x_train,\n",
        "          partial_y_train,\n",
        "          epochs=30,\n",
        "          batch_size=512,\n",
        "          validation_data=(x_val, y_val))\n",
        "results = model.evaluate(X_test, y_test)\n",
        "print(results)"
      ],
      "execution_count": 19,
      "outputs": [
        {
          "output_type": "stream",
          "text": [
            "Train on 600 samples, validate on 200 samples\n",
            "Epoch 1/30\n",
            "600/600 [==============================] - 0s 490us/step - loss: 2.2798 - acc: 0.1383 - val_loss: 2.1435 - val_acc: 0.3050\n",
            "Epoch 2/30\n",
            "600/600 [==============================] - 0s 26us/step - loss: 2.0842 - acc: 0.3550 - val_loss: 2.0285 - val_acc: 0.2850\n",
            "Epoch 3/30\n",
            "600/600 [==============================] - 0s 24us/step - loss: 1.9239 - acc: 0.3733 - val_loss: 1.9216 - val_acc: 0.3050\n",
            "Epoch 4/30\n",
            "600/600 [==============================] - 0s 22us/step - loss: 1.7819 - acc: 0.3983 - val_loss: 1.8072 - val_acc: 0.3250\n",
            "Epoch 5/30\n",
            "600/600 [==============================] - 0s 22us/step - loss: 1.6474 - acc: 0.4367 - val_loss: 1.6812 - val_acc: 0.3850\n",
            "Epoch 6/30\n",
            "600/600 [==============================] - 0s 21us/step - loss: 1.5194 - acc: 0.4783 - val_loss: 1.5695 - val_acc: 0.4150\n",
            "Epoch 7/30\n",
            "600/600 [==============================] - 0s 21us/step - loss: 1.4021 - acc: 0.5583 - val_loss: 1.4783 - val_acc: 0.4850\n",
            "Epoch 8/30\n",
            "600/600 [==============================] - 0s 22us/step - loss: 1.3039 - acc: 0.5817 - val_loss: 1.4185 - val_acc: 0.5000\n",
            "Epoch 9/30\n",
            "600/600 [==============================] - 0s 22us/step - loss: 1.2128 - acc: 0.6000 - val_loss: 1.4100 - val_acc: 0.4900\n",
            "Epoch 10/30\n",
            "600/600 [==============================] - 0s 29us/step - loss: 1.1587 - acc: 0.5933 - val_loss: 1.3563 - val_acc: 0.5150\n",
            "Epoch 11/30\n",
            "600/600 [==============================] - 0s 28us/step - loss: 1.0817 - acc: 0.6350 - val_loss: 1.3068 - val_acc: 0.5500\n",
            "Epoch 12/30\n",
            "600/600 [==============================] - 0s 23us/step - loss: 1.0193 - acc: 0.6783 - val_loss: 1.3011 - val_acc: 0.5350\n",
            "Epoch 13/30\n",
            "600/600 [==============================] - 0s 35us/step - loss: 0.9633 - acc: 0.6967 - val_loss: 1.3135 - val_acc: 0.5200\n",
            "Epoch 14/30\n",
            "600/600 [==============================] - 0s 26us/step - loss: 0.9352 - acc: 0.6783 - val_loss: 1.2722 - val_acc: 0.5400\n",
            "Epoch 15/30\n",
            "600/600 [==============================] - 0s 22us/step - loss: 0.8731 - acc: 0.7133 - val_loss: 1.2250 - val_acc: 0.5750\n",
            "Epoch 16/30\n",
            "600/600 [==============================] - 0s 22us/step - loss: 0.8283 - acc: 0.7433 - val_loss: 1.2382 - val_acc: 0.5800\n",
            "Epoch 17/30\n",
            "600/600 [==============================] - 0s 22us/step - loss: 0.8176 - acc: 0.7367 - val_loss: 1.2420 - val_acc: 0.5800\n",
            "Epoch 18/30\n",
            "600/600 [==============================] - 0s 22us/step - loss: 0.7545 - acc: 0.7633 - val_loss: 1.2891 - val_acc: 0.5450\n",
            "Epoch 19/30\n",
            "600/600 [==============================] - 0s 22us/step - loss: 0.7363 - acc: 0.7583 - val_loss: 1.2792 - val_acc: 0.5900\n",
            "Epoch 20/30\n",
            "600/600 [==============================] - 0s 24us/step - loss: 0.7084 - acc: 0.7717 - val_loss: 1.2769 - val_acc: 0.5950\n",
            "Epoch 21/30\n",
            "600/600 [==============================] - 0s 21us/step - loss: 0.6911 - acc: 0.7650 - val_loss: 1.2499 - val_acc: 0.6100\n",
            "Epoch 22/30\n",
            "600/600 [==============================] - 0s 21us/step - loss: 0.6497 - acc: 0.7900 - val_loss: 1.2401 - val_acc: 0.6000\n",
            "Epoch 23/30\n",
            "600/600 [==============================] - 0s 21us/step - loss: 0.6269 - acc: 0.7933 - val_loss: 1.2681 - val_acc: 0.6050\n",
            "Epoch 24/30\n",
            "600/600 [==============================] - 0s 24us/step - loss: 0.6082 - acc: 0.7900 - val_loss: 1.2773 - val_acc: 0.5950\n",
            "Epoch 25/30\n",
            "600/600 [==============================] - 0s 26us/step - loss: 0.5908 - acc: 0.7850 - val_loss: 1.2424 - val_acc: 0.6000\n",
            "Epoch 26/30\n",
            "600/600 [==============================] - 0s 27us/step - loss: 0.5630 - acc: 0.8117 - val_loss: 1.2599 - val_acc: 0.5800\n",
            "Epoch 27/30\n",
            "600/600 [==============================] - 0s 22us/step - loss: 0.5565 - acc: 0.8017 - val_loss: 1.2887 - val_acc: 0.6000\n",
            "Epoch 28/30\n",
            "600/600 [==============================] - 0s 21us/step - loss: 0.5432 - acc: 0.8283 - val_loss: 1.2217 - val_acc: 0.6050\n",
            "Epoch 29/30\n",
            "600/600 [==============================] - 0s 22us/step - loss: 0.4919 - acc: 0.8517 - val_loss: 1.2598 - val_acc: 0.5950\n",
            "Epoch 30/30\n",
            "600/600 [==============================] - 0s 28us/step - loss: 0.5034 - acc: 0.8200 - val_loss: 1.2771 - val_acc: 0.6100\n",
            "200/200 [==============================] - 0s 68us/step\n",
            "[1.0745003938674926, 0.615]\n"
          ],
          "name": "stdout"
        }
      ]
    },
    {
      "cell_type": "code",
      "metadata": {
        "id": "kS3naC6vcMZm",
        "colab_type": "code",
        "colab": {}
      },
      "source": [
        "# Predict on the test data\n",
        "predictions = model.predict(X_test)"
      ],
      "execution_count": 0,
      "outputs": []
    },
    {
      "cell_type": "code",
      "metadata": {
        "id": "J88PdHukcOTr",
        "colab_type": "code",
        "colab": {
          "base_uri": "https://localhost:8080/",
          "height": 34
        },
        "outputId": "0d5064ce-eda7-46d1-9c15-64bf2843c8cc"
      },
      "source": [
        "predictions[0].shape"
      ],
      "execution_count": 21,
      "outputs": [
        {
          "output_type": "execute_result",
          "data": {
            "text/plain": [
              "(10,)"
            ]
          },
          "metadata": {
            "tags": []
          },
          "execution_count": 21
        }
      ]
    },
    {
      "cell_type": "code",
      "metadata": {
        "id": "bx0LMQdxcTBF",
        "colab_type": "code",
        "colab": {
          "base_uri": "https://localhost:8080/",
          "height": 34
        },
        "outputId": "113db154-7317-4f21-9690-f0fbeb64baea"
      },
      "source": [
        "np.sum(predictions[0])"
      ],
      "execution_count": 22,
      "outputs": [
        {
          "output_type": "execute_result",
          "data": {
            "text/plain": [
              "0.99999994"
            ]
          },
          "metadata": {
            "tags": []
          },
          "execution_count": 22
        }
      ]
    },
    {
      "cell_type": "code",
      "metadata": {
        "id": "Cd8P7ndGcUXw",
        "colab_type": "code",
        "colab": {
          "base_uri": "https://localhost:8080/",
          "height": 34
        },
        "outputId": "2fb84433-91bd-4c20-d9df-a352757751b9"
      },
      "source": [
        "np.argmax(predictions[0])"
      ],
      "execution_count": 23,
      "outputs": [
        {
          "output_type": "execute_result",
          "data": {
            "text/plain": [
              "1"
            ]
          },
          "metadata": {
            "tags": []
          },
          "execution_count": 23
        }
      ]
    }
  ]
}